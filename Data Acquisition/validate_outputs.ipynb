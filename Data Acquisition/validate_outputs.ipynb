{
 "cells": [
  {
   "cell_type": "markdown",
   "metadata": {},
   "source": [
    "# Validate GPT results using pattern matching"
   ]
  },
  {
   "cell_type": "code",
   "execution_count": 42,
   "metadata": {},
   "outputs": [],
   "source": [
    "import json\n",
    "import pandas as pd\n",
    "import re"
   ]
  },
  {
   "cell_type": "markdown",
   "metadata": {},
   "source": [
    "## Processed GPT Text Data\n"
   ]
  },
  {
   "cell_type": "code",
   "execution_count": 43,
   "metadata": {},
   "outputs": [],
   "source": [
    "gpt_data_paths = {\n",
    "    'kaggle': '/Users/hadleydixon/Desktop/gamification_data_analysis/Data/kaggle_results/all_processed_kaggle.json',\n",
    "    'aicrowd': '/Users/hadleydixon/Desktop/gamification_data_analysis/Data/aicrowd_results/all_processed_aicrowd.json',\n",
    "    'drivendata': '/Users/hadleydixon/Desktop/gamification_data_analysis/Data/drivendata_results/all_processed_drivendata.json'\n",
    "}"
   ]
  },
  {
   "cell_type": "code",
   "execution_count": 44,
   "metadata": {},
   "outputs": [
    {
     "name": "stdout",
     "output_type": "stream",
     "text": [
      "Loaded 300 processed results from kaggle\n",
      "Loaded 221 processed results from aicrowd\n",
      "Loaded 65 processed results from drivendata\n"
     ]
    }
   ],
   "source": [
    "processed_gpt_results = {}\n",
    "for platform, path in gpt_data_paths.items():\n",
    "    try:\n",
    "        with open(path, 'r', encoding='utf-8') as f:\n",
    "            processed_gpt_results[platform] = json.load(f)\n",
    "        print(f\"Loaded {len(processed_gpt_results[platform])} processed results from {platform}\")\n",
    "    except FileNotFoundError:\n",
    "        print(f\"Warning: {path} not found\")\n",
    "    except json.JSONDecodeError:\n",
    "        print(f\"Warning: Error parsing JSON from {path}\")"
   ]
  },
  {
   "cell_type": "code",
   "execution_count": 45,
   "metadata": {},
   "outputs": [
    {
     "name": "stdout",
     "output_type": "stream",
     "text": [
      "Created DataFrame for kaggle with 300 rows\n",
      "Created DataFrame for aicrowd with 221 rows\n",
      "Created DataFrame for drivendata with 65 rows\n"
     ]
    }
   ],
   "source": [
    "processed_gpt_dfs = {}\n",
    "for platform, data in processed_gpt_results.items():\n",
    "    if data:\n",
    "        processed_gpt_dfs[platform] = pd.DataFrame(data)\n",
    "        print(f\"Created DataFrame for {platform} with {len(processed_gpt_dfs[platform])} rows\")"
   ]
  },
  {
   "cell_type": "markdown",
   "metadata": {},
   "source": [
    "## Processed Pattern Matching"
   ]
  },
  {
   "cell_type": "code",
   "execution_count": 46,
   "metadata": {},
   "outputs": [],
   "source": [
    "pattern_match_paths = {\n",
    "    'kaggle': '/Users/hadleydixon/Desktop/gamification_data_analysis/Data/kaggle_results/all_pattern_match_results.json',\n",
    "    'aicrowd': '/Users/hadleydixon/Desktop/gamification_data_analysis/Data/aicrowd_results/all_pattern_match_results.json',\n",
    "    'drivendata': '/Users/hadleydixon/Desktop/gamification_data_analysis/Data/drivendata_results/all_pattern_match_results.json'\n",
    "}"
   ]
  },
  {
   "cell_type": "code",
   "execution_count": 47,
   "metadata": {},
   "outputs": [
    {
     "name": "stdout",
     "output_type": "stream",
     "text": [
      "Loaded 300 processed results from kaggle\n",
      "Loaded 221 processed results from aicrowd\n",
      "Loaded 65 processed results from drivendata\n"
     ]
    }
   ],
   "source": [
    "pattern_match_results = {}\n",
    "for platform, path in pattern_match_paths.items():\n",
    "    try:\n",
    "        with open(path, 'r', encoding='utf-8') as f:\n",
    "            pattern_match_results[platform] = json.load(f)\n",
    "        print(f\"Loaded {len(pattern_match_results[platform])} processed results from {platform}\")\n",
    "    except FileNotFoundError:\n",
    "        print(f\"Warning: {path} not found\")\n",
    "    except json.JSONDecodeError:\n",
    "        print(f\"Warning: Error parsing JSON from {path}\")"
   ]
  },
  {
   "cell_type": "code",
   "execution_count": 48,
   "metadata": {},
   "outputs": [
    {
     "name": "stdout",
     "output_type": "stream",
     "text": [
      "Created DataFrame for kaggle with 300 rows\n",
      "Created DataFrame for aicrowd with 221 rows\n",
      "Created DataFrame for drivendata with 65 rows\n"
     ]
    }
   ],
   "source": [
    "pattern_match_dfs = {}\n",
    "for platform, data in pattern_match_results.items():\n",
    "    if data:\n",
    "        pattern_match_dfs[platform] = pd.DataFrame(data)\n",
    "        print(f\"Created DataFrame for {platform} with {len(pattern_match_dfs[platform])} rows\")"
   ]
  },
  {
   "cell_type": "code",
   "execution_count": 49,
   "metadata": {},
   "outputs": [
    {
     "data": {
      "text/html": [
       "<div>\n",
       "<style scoped>\n",
       "    .dataframe tbody tr th:only-of-type {\n",
       "        vertical-align: middle;\n",
       "    }\n",
       "\n",
       "    .dataframe tbody tr th {\n",
       "        vertical-align: top;\n",
       "    }\n",
       "\n",
       "    .dataframe thead th {\n",
       "        text-align: right;\n",
       "    }\n",
       "</style>\n",
       "<table border=\"1\" class=\"dataframe\">\n",
       "  <thead>\n",
       "    <tr style=\"text-align: right;\">\n",
       "      <th></th>\n",
       "      <th>name</th>\n",
       "      <th>url</th>\n",
       "      <th>fairness_bias_mentioned</th>\n",
       "      <th>how_fairness</th>\n",
       "      <th>data_privacy</th>\n",
       "      <th>how_data_privacy</th>\n",
       "      <th>toy</th>\n",
       "      <th>how_toy</th>\n",
       "      <th>red_team</th>\n",
       "      <th>how_red_team</th>\n",
       "      <th>transparency_mentioned</th>\n",
       "      <th>how_transparency</th>\n",
       "    </tr>\n",
       "  </thead>\n",
       "  <tbody>\n",
       "    <tr>\n",
       "      <th>0</th>\n",
       "      <td>CPROD1: Consumer PRODucts contest #1</td>\n",
       "      <td>https://www.kaggle.com/competitions/cprod1</td>\n",
       "      <td>no</td>\n",
       "      <td>n/a</td>\n",
       "      <td>no</td>\n",
       "      <td>n/a</td>\n",
       "      <td>yes</td>\n",
       "      <td>example, sample</td>\n",
       "      <td>no</td>\n",
       "      <td>n/a</td>\n",
       "      <td>no</td>\n",
       "      <td>n/a</td>\n",
       "    </tr>\n",
       "    <tr>\n",
       "      <th>1</th>\n",
       "      <td>EMC Israel Data Science Challenge</td>\n",
       "      <td>https://www.kaggle.com/competitions/emc-data-s...</td>\n",
       "      <td>no</td>\n",
       "      <td>n/a</td>\n",
       "      <td>no</td>\n",
       "      <td>n/a</td>\n",
       "      <td>no</td>\n",
       "      <td>n/a</td>\n",
       "      <td>no</td>\n",
       "      <td>n/a</td>\n",
       "      <td>no</td>\n",
       "      <td>n/a</td>\n",
       "    </tr>\n",
       "    <tr>\n",
       "      <th>2</th>\n",
       "      <td>Practice Fusion Diabetes Classification</td>\n",
       "      <td>https://www.kaggle.com/competitions/pf2012-dia...</td>\n",
       "      <td>no</td>\n",
       "      <td>n/a</td>\n",
       "      <td>yes</td>\n",
       "      <td>de-identified</td>\n",
       "      <td>yes</td>\n",
       "      <td>starter, practice</td>\n",
       "      <td>no</td>\n",
       "      <td>n/a</td>\n",
       "      <td>no</td>\n",
       "      <td>n/a</td>\n",
       "    </tr>\n",
       "    <tr>\n",
       "      <th>3</th>\n",
       "      <td>Detecting Insults in Social Commentary</td>\n",
       "      <td>https://www.kaggle.com/competitions/detecting-...</td>\n",
       "      <td>no</td>\n",
       "      <td>n/a</td>\n",
       "      <td>no</td>\n",
       "      <td>n/a</td>\n",
       "      <td>no</td>\n",
       "      <td>n/a</td>\n",
       "      <td>no</td>\n",
       "      <td>n/a</td>\n",
       "      <td>no</td>\n",
       "      <td>n/a</td>\n",
       "    </tr>\n",
       "    <tr>\n",
       "      <th>4</th>\n",
       "      <td>Cause-effect pairs</td>\n",
       "      <td>https://www.kaggle.com/competitions/cause-effe...</td>\n",
       "      <td>yes</td>\n",
       "      <td>bias</td>\n",
       "      <td>no</td>\n",
       "      <td>n/a</td>\n",
       "      <td>yes</td>\n",
       "      <td>sample</td>\n",
       "      <td>no</td>\n",
       "      <td>n/a</td>\n",
       "      <td>no</td>\n",
       "      <td>n/a</td>\n",
       "    </tr>\n",
       "  </tbody>\n",
       "</table>\n",
       "</div>"
      ],
      "text/plain": [
       "                                      name  \\\n",
       "0     CPROD1: Consumer PRODucts contest #1   \n",
       "1        EMC Israel Data Science Challenge   \n",
       "2  Practice Fusion Diabetes Classification   \n",
       "3   Detecting Insults in Social Commentary   \n",
       "4                       Cause-effect pairs   \n",
       "\n",
       "                                                 url fairness_bias_mentioned  \\\n",
       "0         https://www.kaggle.com/competitions/cprod1                      no   \n",
       "1  https://www.kaggle.com/competitions/emc-data-s...                      no   \n",
       "2  https://www.kaggle.com/competitions/pf2012-dia...                      no   \n",
       "3  https://www.kaggle.com/competitions/detecting-...                      no   \n",
       "4  https://www.kaggle.com/competitions/cause-effe...                     yes   \n",
       "\n",
       "  how_fairness data_privacy how_data_privacy  toy            how_toy red_team  \\\n",
       "0          n/a           no              n/a  yes    example, sample       no   \n",
       "1          n/a           no              n/a   no                n/a       no   \n",
       "2          n/a          yes    de-identified  yes  starter, practice       no   \n",
       "3          n/a           no              n/a   no                n/a       no   \n",
       "4         bias           no              n/a  yes             sample       no   \n",
       "\n",
       "  how_red_team transparency_mentioned how_transparency  \n",
       "0          n/a                     no              n/a  \n",
       "1          n/a                     no              n/a  \n",
       "2          n/a                     no              n/a  \n",
       "3          n/a                     no              n/a  \n",
       "4          n/a                     no              n/a  "
      ]
     },
     "execution_count": 49,
     "metadata": {},
     "output_type": "execute_result"
    }
   ],
   "source": [
    "pattern_match_dfs[\"kaggle\"].head()"
   ]
  },
  {
   "cell_type": "code",
   "execution_count": 50,
   "metadata": {},
   "outputs": [
    {
     "data": {
      "text/html": [
       "<div>\n",
       "<style scoped>\n",
       "    .dataframe tbody tr th:only-of-type {\n",
       "        vertical-align: middle;\n",
       "    }\n",
       "\n",
       "    .dataframe tbody tr th {\n",
       "        vertical-align: top;\n",
       "    }\n",
       "\n",
       "    .dataframe thead th {\n",
       "        text-align: right;\n",
       "    }\n",
       "</style>\n",
       "<table border=\"1\" class=\"dataframe\">\n",
       "  <thead>\n",
       "    <tr style=\"text-align: right;\">\n",
       "      <th></th>\n",
       "      <th>category</th>\n",
       "      <th>fairness_bias_mentioned</th>\n",
       "      <th>how_fairness</th>\n",
       "      <th>data_privacy</th>\n",
       "      <th>how_data_privacy</th>\n",
       "      <th>toy</th>\n",
       "      <th>red_team</th>\n",
       "      <th>transparency_mentioned</th>\n",
       "      <th>how_transparency</th>\n",
       "      <th>name</th>\n",
       "      <th>url</th>\n",
       "    </tr>\n",
       "  </thead>\n",
       "  <tbody>\n",
       "    <tr>\n",
       "      <th>0</th>\n",
       "      <td>Natural Language Processing</td>\n",
       "      <td>no</td>\n",
       "      <td>n/a</td>\n",
       "      <td>no</td>\n",
       "      <td>n/a</td>\n",
       "      <td>no</td>\n",
       "      <td>no</td>\n",
       "      <td>no</td>\n",
       "      <td>n/a</td>\n",
       "      <td>CPROD1: Consumer PRODucts contest #1</td>\n",
       "      <td>https://www.kaggle.com/competitions/cprod1</td>\n",
       "    </tr>\n",
       "    <tr>\n",
       "      <th>1</th>\n",
       "      <td>Data Science</td>\n",
       "      <td>no</td>\n",
       "      <td>n/a</td>\n",
       "      <td>no</td>\n",
       "      <td>n/a</td>\n",
       "      <td>no</td>\n",
       "      <td>no</td>\n",
       "      <td>no</td>\n",
       "      <td>n/a</td>\n",
       "      <td>EMC Israel Data Science Challenge</td>\n",
       "      <td>https://www.kaggle.com/competitions/emc-data-s...</td>\n",
       "    </tr>\n",
       "    <tr>\n",
       "      <th>2</th>\n",
       "      <td>Healthcare</td>\n",
       "      <td>no</td>\n",
       "      <td>n/a</td>\n",
       "      <td>yes</td>\n",
       "      <td>The data involves de-identified medical record...</td>\n",
       "      <td>no</td>\n",
       "      <td>no</td>\n",
       "      <td>no</td>\n",
       "      <td>n/a: The competition emphasizes a random fores...</td>\n",
       "      <td>Practice Fusion Diabetes Classification</td>\n",
       "      <td>https://www.kaggle.com/competitions/pf2012-dia...</td>\n",
       "    </tr>\n",
       "    <tr>\n",
       "      <th>3</th>\n",
       "      <td>Natural Language Processing</td>\n",
       "      <td>no</td>\n",
       "      <td>n/a</td>\n",
       "      <td>yes</td>\n",
       "      <td>Potential privacy issues due to publicly sourc...</td>\n",
       "      <td>no</td>\n",
       "      <td>no</td>\n",
       "      <td>no</td>\n",
       "      <td>n/a, the competition focuses on single-class c...</td>\n",
       "      <td>Detecting Insults in Social Commentary</td>\n",
       "      <td>https://www.kaggle.com/competitions/detecting-...</td>\n",
       "    </tr>\n",
       "    <tr>\n",
       "      <th>4</th>\n",
       "      <td>Data Science and Machine Learning</td>\n",
       "      <td>yes</td>\n",
       "      <td>Normalization and quantization were adjusted t...</td>\n",
       "      <td>no</td>\n",
       "      <td>n/a</td>\n",
       "      <td>no</td>\n",
       "      <td>no</td>\n",
       "      <td>no</td>\n",
       "      <td>n/a, focus is on ranking cause-effect pairs fo...</td>\n",
       "      <td>Cause-effect pairs</td>\n",
       "      <td>https://www.kaggle.com/competitions/cause-effe...</td>\n",
       "    </tr>\n",
       "  </tbody>\n",
       "</table>\n",
       "</div>"
      ],
      "text/plain": [
       "                            category fairness_bias_mentioned  \\\n",
       "0        Natural Language Processing                      no   \n",
       "1                       Data Science                      no   \n",
       "2                         Healthcare                      no   \n",
       "3        Natural Language Processing                      no   \n",
       "4  Data Science and Machine Learning                     yes   \n",
       "\n",
       "                                        how_fairness data_privacy  \\\n",
       "0                                                n/a           no   \n",
       "1                                                n/a           no   \n",
       "2                                                n/a          yes   \n",
       "3                                                n/a          yes   \n",
       "4  Normalization and quantization were adjusted t...           no   \n",
       "\n",
       "                                    how_data_privacy toy red_team  \\\n",
       "0                                                n/a  no       no   \n",
       "1                                                n/a  no       no   \n",
       "2  The data involves de-identified medical record...  no       no   \n",
       "3  Potential privacy issues due to publicly sourc...  no       no   \n",
       "4                                                n/a  no       no   \n",
       "\n",
       "  transparency_mentioned                                   how_transparency  \\\n",
       "0                     no                                                n/a   \n",
       "1                     no                                                n/a   \n",
       "2                     no  n/a: The competition emphasizes a random fores...   \n",
       "3                     no  n/a, the competition focuses on single-class c...   \n",
       "4                     no  n/a, focus is on ranking cause-effect pairs fo...   \n",
       "\n",
       "                                      name  \\\n",
       "0     CPROD1: Consumer PRODucts contest #1   \n",
       "1        EMC Israel Data Science Challenge   \n",
       "2  Practice Fusion Diabetes Classification   \n",
       "3   Detecting Insults in Social Commentary   \n",
       "4                       Cause-effect pairs   \n",
       "\n",
       "                                                 url  \n",
       "0         https://www.kaggle.com/competitions/cprod1  \n",
       "1  https://www.kaggle.com/competitions/emc-data-s...  \n",
       "2  https://www.kaggle.com/competitions/pf2012-dia...  \n",
       "3  https://www.kaggle.com/competitions/detecting-...  \n",
       "4  https://www.kaggle.com/competitions/cause-effe...  "
      ]
     },
     "execution_count": 50,
     "metadata": {},
     "output_type": "execute_result"
    }
   ],
   "source": [
    "processed_gpt_dfs[\"kaggle\"].head()"
   ]
  },
  {
   "cell_type": "markdown",
   "metadata": {},
   "source": [
    "## Align Entries"
   ]
  },
  {
   "cell_type": "code",
   "execution_count": null,
   "metadata": {},
   "outputs": [],
   "source": [
    "gpt_kaggle_df = processed_gpt_dfs[\"kaggle\"]\n",
    "gpt_aicrowd_df = processed_gpt_dfs[\"aicrowd\"]\n",
    "gpt_drivendata_df = processed_gpt_dfs[\"drivendata\"]\n",
    "\n",
    "pattern_kaggle_df = pattern_match_dfs[\"kaggle\"]\n",
    "pattern_aicrowd_df = pattern_match_dfs[\"aicrowd\"]\n",
    "pattern_drivendata_df = pattern_match_dfs[\"drivendata\"]"
   ]
  },
  {
   "cell_type": "code",
   "execution_count": 55,
   "metadata": {},
   "outputs": [],
   "source": [
    "kaggle_merged_df = pd.merge(\n",
    "    gpt_kaggle_df, pattern_kaggle_df,\n",
    "    on='url',\n",
    "    suffixes=('_gpt', '_pattern')\n",
    ")\n",
    "\n",
    "aicrowd_merged_df = pd.merge(\n",
    "    gpt_aicrowd_df, pattern_aicrowd_df,\n",
    "    on='url',\n",
    "    suffixes=('_gpt', '_pattern')\n",
    ")\n",
    "\n",
    "drivendata_merged_df = pd.merge(\n",
    "    gpt_drivendata_df, pattern_drivendata_df,\n",
    "    on='url',\n",
    "    suffixes=('_gpt', '_pattern')\n",
    ")"
   ]
  },
  {
   "cell_type": "markdown",
   "metadata": {},
   "source": [
    "## Compare Fields"
   ]
  },
  {
   "cell_type": "code",
   "execution_count": null,
   "metadata": {},
   "outputs": [],
   "source": []
  }
 ],
 "metadata": {
  "kernelspec": {
   "display_name": "Gameify",
   "language": "python",
   "name": "python3"
  },
  "language_info": {
   "codemirror_mode": {
    "name": "ipython",
    "version": 3
   },
   "file_extension": ".py",
   "mimetype": "text/x-python",
   "name": "python",
   "nbconvert_exporter": "python",
   "pygments_lexer": "ipython3",
   "version": "3.13.5"
  }
 },
 "nbformat": 4,
 "nbformat_minor": 2
}
